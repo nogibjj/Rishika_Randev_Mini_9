{
  "cells": [
    {
      "cell_type": "markdown",
      "metadata": {
        "id": "ZHtx5G1m0ag8"
      },
      "source": [
        "## Ingest"
      ]
    },
    {
      "cell_type": "code",
      "execution_count": null,
      "metadata": {
        "id": "c0cWQPBP0iru"
      },
      "outputs": [],
      "source": [
        "import pandas as pd\n",
        "import matplotlib.pyplot as plt\n",
        "import seaborn.objects as so\n",
        "\n",
        "url = \"https://data.cdc.gov/api/views/8pt5-q6wp/rows.csv?accessType=DOWNLOAD\"\n",
        "\n",
        "df = pd.read_csv(url)\n",
        "\n",
        "df_subset = df.loc[(df[\"Group\"] == \"By State\") \\\n",
        "& (df[\"Time Period Start Date\"] == \"05/07/2020\"), \\\n",
        "[\"Indicator\", \"Group\", \"State\", \"Time Period Start Date\", \\\n",
        "\"Time Period End Date\", \"Value\", \"High CI\"]]\n",
        "\n",
        "regions = pd.read_csv(\"https://github.com/cphalpert/census-regions/raw/refs/heads/master/us%20census%20bureau%20regions%20and%20divisions.csv\")\n"
      ]
    },
    {
      "cell_type": "markdown",
      "metadata": {
        "id": "fIIDVbN_0bSo"
      },
      "source": [
        "## EDA"
      ]
    },
    {
      "cell_type": "markdown",
      "metadata": {
        "id": "gBdzXm72D5JQ"
      },
      "source": [
        "View a sample of the dataset"
      ]
    },
    {
      "cell_type": "code",
      "execution_count": null,
      "metadata": {
        "colab": {
          "base_uri": "https://localhost:8080/",
          "height": 206
        },
        "id": "L8BnM2ae0uAg",
        "outputId": "8bcd8754-ea1b-4071-947b-93e91f150460"
      },
      "outputs": [],
      "source": [
        "df_subset.head()"
      ]
    },
    {
      "cell_type": "markdown",
      "metadata": {
        "id": "owLj4yXzD7vv"
      },
      "source": [
        "Pivot the dataset so that each state is an individual observation"
      ]
    },
    {
      "cell_type": "code",
      "execution_count": null,
      "metadata": {
        "colab": {
          "base_uri": "https://localhost:8080/",
          "height": 255
        },
        "id": "NLnJURiSBEXW",
        "outputId": "77d65e64-db5d-4d73-e029-7175fd941259"
      },
      "outputs": [],
      "source": [
        "pivoted = df_subset.pivot(index=\"State\", columns=\"Indicator\", values=\"Value\")\n",
        "pivoted.head()"
      ]
    },
    {
      "cell_type": "markdown",
      "metadata": {
        "id": "D09Fm6_QEDJ4"
      },
      "source": [
        "Validate that the pivot worked properly"
      ]
    },
    {
      "cell_type": "code",
      "execution_count": null,
      "metadata": {
        "id": "I_K-rUPTBXEI"
      },
      "outputs": [],
      "source": [
        "assert (df_subset.loc[(df_subset[\"State\"] == \"California\") & (df_subset[\"Indicator\"] == \"Symptoms of Anxiety Disorder\"), \"Value\"] == 31.4).all()\n",
        "assert (df_subset.loc[(df_subset[\"State\"] == \"California\") & (df_subset[\"Indicator\"] == \"Symptoms of Depressive Disorder\"), \"Value\"] == 22.8).all()\n",
        "assert (df_subset.loc[(df_subset[\"State\"] == \"California\") & (df_subset[\"Indicator\"] == \"Symptoms of Anxiety Disorder or Depressive Disorder\"), \"Value\"] == 34.4).all()\n"
      ]
    },
    {
      "cell_type": "markdown",
      "metadata": {
        "id": "qNIFlU3xFlmO"
      },
      "source": [
        "Get summary statistics for indicator values"
      ]
    },
    {
      "cell_type": "code",
      "execution_count": null,
      "metadata": {
        "colab": {
          "base_uri": "https://localhost:8080/",
          "height": 318
        },
        "id": "u21c9X9LFoXA",
        "outputId": "e145d1f5-0a85-48d6-e7b3-a353f8c48d51"
      },
      "outputs": [],
      "source": [
        "pivoted.describe()"
      ]
    },
    {
      "cell_type": "markdown",
      "metadata": {
        "id": "4UEDgPYiFZsi"
      },
      "source": [
        "Plot relationship between anxiety and depressive symptoms by state using pivoted data"
      ]
    },
    {
      "cell_type": "code",
      "execution_count": null,
      "metadata": {
        "colab": {
          "base_uri": "https://localhost:8080/",
          "height": 727
        },
        "id": "2h63g9kM0ubq",
        "outputId": "8c7f488c-6039-4013-e995-54eed0956b4d"
      },
      "outputs": [],
      "source": [
        "f = plt.figure(figsize=(12,8))\n",
        "so.Plot(pivoted, x=\"Symptoms of Anxiety Disorder\", y=\"Symptoms of Depressive Disorder\").add(so.Dots()).add(so.Text(fontsize=8), text=\"State\") \\\n",
        "    .label(\n",
        "        x=\"% of Sample Reporting Anxiety Symptoms\",\n",
        "        y=\"% of Sample Reporting Depressive Symptoms\",\n",
        "        title=\"Anxiety & Depression Symptoms By State During Early COVID\",\n",
        "    ).on(f).show()\n",
        "\n"
      ]
    },
    {
      "cell_type": "markdown",
      "metadata": {
        "id": "8i1TmQeeF4Xn"
      },
      "source": [
        "Merge dataset with dataset of US states' region labels"
      ]
    },
    {
      "cell_type": "code",
      "execution_count": null,
      "metadata": {
        "colab": {
          "base_uri": "https://localhost:8080/",
          "height": 206
        },
        "id": "8Oa9UXLrI1UV",
        "outputId": "cf27ca68-b385-49d5-9602-6ac8698dfd41"
      },
      "outputs": [],
      "source": [
        "regions.head()"
      ]
    },
    {
      "cell_type": "code",
      "execution_count": null,
      "metadata": {
        "colab": {
          "base_uri": "https://localhost:8080/",
          "height": 210
        },
        "id": "MPjm-jkmJGre",
        "outputId": "c9d0e95a-72d4-43cf-96e8-1c0a262e1c6a"
      },
      "outputs": [],
      "source": [
        "merged = pd.merge(pivoted, regions, on=\"State\", how='outer', indicator=True)\n",
        "merged._merge.value_counts()"
      ]
    },
    {
      "cell_type": "code",
      "execution_count": null,
      "metadata": {
        "colab": {
          "base_uri": "https://localhost:8080/",
          "height": 258
        },
        "id": "a2wKNd9OJbKy",
        "outputId": "bf5b929f-477d-4ca5-f2db-ab723b29e0db"
      },
      "outputs": [],
      "source": [
        "merged.head()"
      ]
    },
    {
      "cell_type": "markdown",
      "metadata": {
        "id": "hPLRFol0IwjF"
      },
      "source": [
        "Generate boxplots of anxiety symptoms by US regional division"
      ]
    },
    {
      "cell_type": "code",
      "execution_count": null,
      "metadata": {
        "colab": {
          "base_uri": "https://localhost:8080/",
          "height": 852
        },
        "id": "2kvDyEBGF6sh",
        "outputId": "1ead76a3-08b9-4c10-e23d-df8c3b1cc874"
      },
      "outputs": [],
      "source": [
        "merged.boxplot(column=\"Symptoms of Anxiety Disorder\", by=\"Division\", grid=False, figsize = (12,8))\n",
        "plt.xticks(rotation=45)\n",
        "plt.xlabel(\"Regional Division\")\n",
        "plt.ylabel(\"Anxiety Symptoms % Distribution\")\n",
        "plt.title(\"Anxiety Symptoms By Region During Early COVID\")"
      ]
    },
    {
      "cell_type": "markdown",
      "metadata": {
        "id": "gQ0SlcoXMr_c"
      },
      "source": [
        "Generate boxplots of depressive symptoms by US regional division"
      ]
    },
    {
      "cell_type": "code",
      "execution_count": null,
      "metadata": {
        "colab": {
          "base_uri": "https://localhost:8080/",
          "height": 852
        },
        "id": "qpjyWlXNGEeX",
        "outputId": "9899937f-a835-4a17-bf3c-1e012b6361df"
      },
      "outputs": [],
      "source": [
        "merged.boxplot(column=\"Symptoms of Depressive Disorder\", by=\"Division\", grid=False, figsize = (12,8))\n",
        "plt.xticks(rotation=45)\n",
        "plt.xlabel(\"Regional Division\")\n",
        "plt.ylabel(\"Depressive Symptoms % Distribution\")\n",
        "plt.title(\"Depressive Symptoms By Region During Early COVID\")"
      ]
    }
  ],
  "metadata": {
    "colab": {
      "provenance": [],
      "toc_visible": true
    },
    "kernelspec": {
      "display_name": "base",
      "language": "python",
      "name": "python3"
    },
    "language_info": {
      "name": "python",
      "version": "3.12.5"
    }
  },
  "nbformat": 4,
  "nbformat_minor": 0
}
